{
 "cells": [
  {
   "cell_type": "code",
   "execution_count": 5,
   "metadata": {},
   "outputs": [
    {
     "data": {
      "text/plain": [
       "(0.6919495757003578, 3.9242410487616275, 0.34862297099063266)"
      ]
     },
     "execution_count": 5,
     "metadata": {},
     "output_type": "execute_result"
    }
   ],
   "source": [
    "import math\n",
    "# Given LIDAR reading in degrees and meters\n",
    "elevation_deg = 5\n",
    "azimuth_deg = 10\n",
    "range_m = 4\n",
    "\n",
    "# Convert degrees to radians for trigonometric functions\n",
    "elevation_rad = math.radians(elevation_deg)\n",
    "azimuth_rad = math.radians(azimuth_deg)\n",
    "\n",
    "# Correctly calculate Cartesian coordinates\n",
    "x_correct = range_m * math.cos(elevation_rad) * math.sin(azimuth_rad)\n",
    "y_correct = range_m * math.cos(elevation_rad) * math.cos(azimuth_rad)\n",
    "z_correct = range_m * math.sin(elevation_rad)\n",
    "\n",
    "(x_correct, y_correct, z_correct)"
   ]
  },
  {
   "cell_type": "markdown",
   "metadata": {},
   "source": [
    "A 3D LIDAR unit is scanning a surface that is approximately planar, returning range, elevation and azimuth measurements. In order to estimate the equation of the surface in parametric form (as a plane), we need to find a set of parameters that best fit the measurements. \n",
    "\n",
    "Implement the sph_to_cat and estimate_params functions, which transform LIDAR measurements into a Cartesian coordinate frame and estimate the plane parameters, respectively. You may assume that measurement noise is negligible. The code comments provide more information on the format of the arguments to each function."
   ]
  },
  {
   "cell_type": "code",
   "execution_count": 9,
   "metadata": {},
   "outputs": [],
   "source": [
    "from numpy import *\n",
    "\n",
    "def sph_to_cart(epsilon, alpha, r):\n",
    "  \"\"\"\n",
    "  Transform sensor readings to Cartesian coordinates in the sensor\n",
    "  frame. The values of epsilon and alpha are given in radians, while \n",
    "  r is in metres. Epsilon is the elevation angle and alpha is the\n",
    "  azimuth angle (i.e., in the x,y plane).\n",
    "  \"\"\"\n",
    "  p = zeros(3)  # Position vector \n",
    "  \n",
    "  # Your code here\n",
    "  x = r * cos(epsilon) * cos(alpha)\n",
    "  y = r * cos(epsilon) * sin(alpha)\n",
    "  z = r * sin(epsilon)\n",
    "\n",
    "  p = array([x, y, z])\n",
    "  return p\n",
    "  \n",
    "def estimate_params(P):\n",
    "  \"\"\"\n",
    "  Estimate parameters from sensor readings in the Cartesian frame.\n",
    "  Each row in the P matrix contains a single 3D point measurement;\n",
    "  the matrix P has size n x 3 (for n points). The format is:\n",
    "  \n",
    "  P = [[x1, y1, z1],\n",
    "       [x2, x2, z2], ...]\n",
    "       \n",
    "  where all coordinate values are in metres. Three parameters are\n",
    "  required to fit the plane, a, b, and c, according to the equation\n",
    "  \n",
    "  z = a + bx + cy\n",
    "  \n",
    "  The function should return the parameters as a NumPy array of size\n",
    "  three, in the order [a, b, c].\n",
    "  \"\"\"\n",
    "  param_est = zeros(3)\n",
    "  \n",
    "  # Your code here\n",
    "  A = hstack((ones((P.shape[0], 1)), P[:, 0:2]))\n",
    "    \n",
    "    # The vector b is just the z coordinates\n",
    "  b = P[:, 2]\n",
    "    \n",
    "    # Compute the pseudoinverse of A\n",
    "  A_pinv = linalg.pinv(A)\n",
    "    \n",
    "    # Solve for the parameters using the pseudoinverse\n",
    "  params = A_pinv.dot(b)\n",
    "\n",
    "#   param_est[:] = params\n",
    "  \n",
    "  return params"
   ]
  },
  {
   "cell_type": "code",
   "execution_count": 10,
   "metadata": {},
   "outputs": [
    {
     "name": "stdout",
     "output_type": "stream",
     "text": [
      "Estimated parameters [a, b, c]: [ 3.10862447e-15 -1.00000000e+00  2.00000000e+00]\n"
     ]
    }
   ],
   "source": [
    "P = array([\n",
    "    [1, 2, 3],\n",
    "    [4, 5, 6],\n",
    "    [7, 8, 9],\n",
    "    [2, 4, 6]\n",
    "])\n",
    "\n",
    "param_est = estimate_params(P)\n",
    "print(\"Estimated parameters [a, b, c]:\", param_est)"
   ]
  },
  {
   "cell_type": "code",
   "execution_count": null,
   "metadata": {},
   "outputs": [],
   "source": []
  }
 ],
 "metadata": {
  "kernelspec": {
   "display_name": "py310",
   "language": "python",
   "name": "python3"
  },
  "language_info": {
   "codemirror_mode": {
    "name": "ipython",
    "version": 3
   },
   "file_extension": ".py",
   "mimetype": "text/x-python",
   "name": "python",
   "nbconvert_exporter": "python",
   "pygments_lexer": "ipython3",
   "version": "3.12.2"
  }
 },
 "nbformat": 4,
 "nbformat_minor": 2
}
